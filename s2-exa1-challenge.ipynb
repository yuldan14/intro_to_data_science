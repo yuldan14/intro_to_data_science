{
 "cells": [
  {
   "cell_type": "code",
   "execution_count": 1,
   "metadata": {},
   "outputs": [],
   "source": [
    "import pandas as pd\n",
    "import numpy as np\n",
    "from sklearn import preprocessing\n",
    "from prettytable import PrettyTable\n",
    "from sklearn.metrics import mean_squared_error\n",
    "from sklearn.linear_model import LinearRegression\n",
    "from sklearn.model_selection import train_test_split\n",
    "%matplotlib inline"
   ]
  },
  {
   "cell_type": "code",
   "execution_count": 2,
   "metadata": {},
   "outputs": [],
   "source": [
    "# Read the file \"Advertising.csv\"\n",
    "df = pd.read_csv(\"Advertising.csv\")\n"
   ]
  },
  {
   "cell_type": "code",
   "execution_count": 3,
   "metadata": {},
   "outputs": [
    {
     "data": {
      "text/html": [
       "<div>\n",
       "<style scoped>\n",
       "    .dataframe tbody tr th:only-of-type {\n",
       "        vertical-align: middle;\n",
       "    }\n",
       "\n",
       "    .dataframe tbody tr th {\n",
       "        vertical-align: top;\n",
       "    }\n",
       "\n",
       "    .dataframe thead th {\n",
       "        text-align: right;\n",
       "    }\n",
       "</style>\n",
       "<table border=\"1\" class=\"dataframe\">\n",
       "  <thead>\n",
       "    <tr style=\"text-align: right;\">\n",
       "      <th></th>\n",
       "      <th>TV</th>\n",
       "      <th>Radio</th>\n",
       "      <th>Newspaper</th>\n",
       "      <th>Sales</th>\n",
       "    </tr>\n",
       "  </thead>\n",
       "  <tbody>\n",
       "    <tr>\n",
       "      <th>0</th>\n",
       "      <td>230.1</td>\n",
       "      <td>37.8</td>\n",
       "      <td>69.2</td>\n",
       "      <td>22.1</td>\n",
       "    </tr>\n",
       "    <tr>\n",
       "      <th>1</th>\n",
       "      <td>44.5</td>\n",
       "      <td>39.3</td>\n",
       "      <td>45.1</td>\n",
       "      <td>10.4</td>\n",
       "    </tr>\n",
       "    <tr>\n",
       "      <th>2</th>\n",
       "      <td>17.2</td>\n",
       "      <td>45.9</td>\n",
       "      <td>69.3</td>\n",
       "      <td>9.3</td>\n",
       "    </tr>\n",
       "    <tr>\n",
       "      <th>3</th>\n",
       "      <td>151.5</td>\n",
       "      <td>41.3</td>\n",
       "      <td>58.5</td>\n",
       "      <td>18.5</td>\n",
       "    </tr>\n",
       "    <tr>\n",
       "      <th>4</th>\n",
       "      <td>180.8</td>\n",
       "      <td>10.8</td>\n",
       "      <td>58.4</td>\n",
       "      <td>12.9</td>\n",
       "    </tr>\n",
       "  </tbody>\n",
       "</table>\n",
       "</div>"
      ],
      "text/plain": [
       "      TV  Radio  Newspaper  Sales\n",
       "0  230.1   37.8       69.2   22.1\n",
       "1   44.5   39.3       45.1   10.4\n",
       "2   17.2   45.9       69.3    9.3\n",
       "3  151.5   41.3       58.5   18.5\n",
       "4  180.8   10.8       58.4   12.9"
      ]
     },
     "execution_count": 3,
     "metadata": {},
     "output_type": "execute_result"
    }
   ],
   "source": [
    "# Take a quick look at the data to list all the predictors\n",
    "df.head()\n"
   ]
  },
  {
   "cell_type": "code",
   "execution_count": 5,
   "metadata": {},
   "outputs": [
    {
     "data": {
      "text/plain": [
       "[10.186181934530211,\n",
       " 24.237233037132135,\n",
       " 32.13714634300907,\n",
       " 4.391429763581876,\n",
       " 8.68768267569058,\n",
       " 24.783395482938158,\n",
       " 4.40211829144968]"
      ]
     },
     "execution_count": 5,
     "metadata": {},
     "output_type": "execute_result"
    }
   ],
   "source": [
    "### edTest(test_mse) ###\n",
    "\n",
    "# Initialize a list to store the MSE values\n",
    "mse_list = []\n",
    "\n",
    "# Create a list of lists of all unique predictor combinations\n",
    "# For example, if you have 2 predictors,  A and B, you would \n",
    "# end up with [['A'],['B'],['A','B']]\n",
    "cols = [['TV'],['Radio'], ['Newspaper'], ['TV', 'Radio'], ['TV', 'Newspaper'], ['Radio', 'Newspaper'], ['TV', 'Radio', 'Newspaper']]\n",
    "\n",
    "# Loop over all the predictor combinations \n",
    "for i in cols:\n",
    "\n",
    "    # Set each of the predictors from the previous list as x\n",
    "    x = df[i]\n",
    "    \n",
    "    # Set the \"Sales\" column as the reponse variable\n",
    "    y = df['Sales']\n",
    "   \n",
    "    # Split the data into train-test sets with 80% training data and 20% testing data. \n",
    "    # Set random_state as 0\n",
    "    x_train, x_test, y_train, y_test = train_test_split(x, y, train_size=.8, random_state=0)\n",
    "\n",
    "    # Initialize a Linear Regression model\n",
    "    lreg = LinearRegression()\n",
    "\n",
    "    # Fit the linear model on the train data\n",
    "    lreg.fit(x_train, y_train)\n",
    "\n",
    "    # Predict the response variable for the test set using the trained model\n",
    "    y_pred = lreg.predict(x_test)\n",
    "    \n",
    "    # Compute the MSE for the test data\n",
    "    MSE = mean_squared_error(y_test, y_pred)\n",
    "    \n",
    "    # Append the computed MSE to the initialized list\n",
    "    mse_list.append(MSE)\n",
    "mse_list"
   ]
  },
  {
   "cell_type": "code",
   "execution_count": 6,
   "metadata": {},
   "outputs": [
    {
     "name": "stdout",
     "output_type": "stream",
     "text": [
      "+------------------------------+--------+\n",
      "|          Predictors          |  MSE   |\n",
      "+------------------------------+--------+\n",
      "|            ['TV']            | 10.186 |\n",
      "|          ['Radio']           | 24.237 |\n",
      "|        ['Newspaper']         | 32.137 |\n",
      "|       ['TV', 'Radio']        | 4.391  |\n",
      "|     ['TV', 'Newspaper']      | 8.688  |\n",
      "|    ['Radio', 'Newspaper']    | 24.783 |\n",
      "| ['TV', 'Radio', 'Newspaper'] | 4.402  |\n",
      "+------------------------------+--------+\n"
     ]
    }
   ],
   "source": [
    "# Helper code to display the MSE for each predictor combination\n",
    "t = PrettyTable(['Predictors', 'MSE'])\n",
    "\n",
    "for i in range(len(mse_list)):\n",
    "    t.add_row([cols[i],round(mse_list[i],3)])\n",
    "\n",
    "print(t)\n"
   ]
  }
 ],
 "metadata": {
  "kernelspec": {
   "display_name": "Python 3",
   "language": "python",
   "name": "python3"
  },
  "language_info": {
   "codemirror_mode": {
    "name": "ipython",
    "version": 3
   },
   "file_extension": ".py",
   "mimetype": "text/x-python",
   "name": "python",
   "nbconvert_exporter": "python",
   "pygments_lexer": "ipython3",
   "version": "3.11.9"
  }
 },
 "nbformat": 4,
 "nbformat_minor": 2
}
